{
 "cells": [
  {
   "cell_type": "code",
   "execution_count": 1,
   "metadata": {},
   "outputs": [],
   "source": [
    "import pandas as pd \n",
    "\n",
    "df = pd.read_csv('jobs.csv')"
   ]
  },
  {
   "cell_type": "code",
   "execution_count": 2,
   "metadata": {},
   "outputs": [
    {
     "data": {
      "text/html": [
       "<div>\n",
       "<style scoped>\n",
       "    .dataframe tbody tr th:only-of-type {\n",
       "        vertical-align: middle;\n",
       "    }\n",
       "\n",
       "    .dataframe tbody tr th {\n",
       "        vertical-align: top;\n",
       "    }\n",
       "\n",
       "    .dataframe thead th {\n",
       "        text-align: right;\n",
       "    }\n",
       "</style>\n",
       "<table border=\"1\" class=\"dataframe\">\n",
       "  <thead>\n",
       "    <tr style=\"text-align: right;\">\n",
       "      <th></th>\n",
       "      <th>Unnamed: 0</th>\n",
       "      <th>Job Title</th>\n",
       "      <th>Company Name</th>\n",
       "      <th>Location</th>\n",
       "      <th>Salary Estimate</th>\n",
       "      <th>Rating</th>\n",
       "      <th>Job Description</th>\n",
       "      <th>size</th>\n",
       "      <th>founded</th>\n",
       "      <th>type</th>\n",
       "      <th>industry</th>\n",
       "      <th>sector</th>\n",
       "      <th>revenue</th>\n",
       "    </tr>\n",
       "  </thead>\n",
       "  <tbody>\n",
       "    <tr>\n",
       "      <th>0</th>\n",
       "      <td>0</td>\n",
       "      <td>Data Scientist</td>\n",
       "      <td>Agama Solutions</td>\n",
       "      <td>San Francisco, CA</td>\n",
       "      <td>$75.00 /hr (est.)</td>\n",
       "      <td>3.8</td>\n",
       "      <td>Position Title: Data Scientist\\n\\nLocation: Ba...</td>\n",
       "      <td>51 to 200 Employees</td>\n",
       "      <td>Contract</td>\n",
       "      <td>Computer Hardware Development</td>\n",
       "      <td>Information Technology</td>\n",
       "      <td>$10 to $25 million (USD)</td>\n",
       "      <td>-1</td>\n",
       "    </tr>\n",
       "    <tr>\n",
       "      <th>1</th>\n",
       "      <td>1</td>\n",
       "      <td>Entry Level Data Analyst (Part-time)</td>\n",
       "      <td>CORMAC</td>\n",
       "      <td>Remote</td>\n",
       "      <td>$75.00 /hr (est.)</td>\n",
       "      <td>3.4</td>\n",
       "      <td>HUB Zone residence is a requirement for this j...</td>\n",
       "      <td>Unknown</td>\n",
       "      <td>2002</td>\n",
       "      <td>Company - Private</td>\n",
       "      <td>Software Development</td>\n",
       "      <td>Information Technology</td>\n",
       "      <td>Less than $1 million (USD)</td>\n",
       "    </tr>\n",
       "    <tr>\n",
       "      <th>2</th>\n",
       "      <td>2</td>\n",
       "      <td>Front End Engineer, MADS- Measurement and Data...</td>\n",
       "      <td>Amazon.com Services LLC</td>\n",
       "      <td>Boulder, CO</td>\n",
       "      <td>$93,800 /yr (est.)</td>\n",
       "      <td>3.8</td>\n",
       "      <td>Professional non-internship experience with fr...</td>\n",
       "      <td>10000+ Employees</td>\n",
       "      <td>1994</td>\n",
       "      <td>Company - Public</td>\n",
       "      <td>Internet &amp; Web Services</td>\n",
       "      <td>Information Technology</td>\n",
       "      <td>$10+ billion (USD)</td>\n",
       "    </tr>\n",
       "    <tr>\n",
       "      <th>3</th>\n",
       "      <td>3</td>\n",
       "      <td>Jr. Data Scientist</td>\n",
       "      <td>Net2Aspire LLC</td>\n",
       "      <td>Remote</td>\n",
       "      <td>$82,500 /yr (est.)</td>\n",
       "      <td>-1.0</td>\n",
       "      <td> Apply Statistical and Machine Learning metho...</td>\n",
       "      <td>-1</td>\n",
       "      <td>-1</td>\n",
       "      <td>-1</td>\n",
       "      <td>-1</td>\n",
       "      <td>-1</td>\n",
       "      <td>-1</td>\n",
       "    </tr>\n",
       "    <tr>\n",
       "      <th>4</th>\n",
       "      <td>4</td>\n",
       "      <td>Healthcare Data Scientist</td>\n",
       "      <td>Humbi Health LLC</td>\n",
       "      <td>Remote</td>\n",
       "      <td>$175,000 /yr (est.)</td>\n",
       "      <td>-1.0</td>\n",
       "      <td>Humbi Health is looking for highly analytical ...</td>\n",
       "      <td>-1</td>\n",
       "      <td>-1</td>\n",
       "      <td>-1</td>\n",
       "      <td>-1</td>\n",
       "      <td>-1</td>\n",
       "      <td>-1</td>\n",
       "    </tr>\n",
       "  </tbody>\n",
       "</table>\n",
       "</div>"
      ],
      "text/plain": [
       "   Unnamed: 0                                          Job Title  \\\n",
       "0           0                                     Data Scientist   \n",
       "1           1               Entry Level Data Analyst (Part-time)   \n",
       "2           2  Front End Engineer, MADS- Measurement and Data...   \n",
       "3           3                                 Jr. Data Scientist   \n",
       "4           4                          Healthcare Data Scientist   \n",
       "\n",
       "              Company Name           Location      Salary Estimate  Rating  \\\n",
       "0          Agama Solutions  San Francisco, CA    $75.00 /hr (est.)     3.8   \n",
       "1                   CORMAC             Remote    $75.00 /hr (est.)     3.4   \n",
       "2  Amazon.com Services LLC        Boulder, CO   $93,800 /yr (est.)     3.8   \n",
       "3           Net2Aspire LLC             Remote   $82,500 /yr (est.)    -1.0   \n",
       "4         Humbi Health LLC             Remote  $175,000 /yr (est.)    -1.0   \n",
       "\n",
       "                                     Job Description                 size  \\\n",
       "0  Position Title: Data Scientist\\n\\nLocation: Ba...  51 to 200 Employees   \n",
       "1  HUB Zone residence is a requirement for this j...              Unknown   \n",
       "2  Professional non-internship experience with fr...     10000+ Employees   \n",
       "3   Apply Statistical and Machine Learning metho...                   -1   \n",
       "4  Humbi Health is looking for highly analytical ...                   -1   \n",
       "\n",
       "    founded                           type                 industry  \\\n",
       "0  Contract  Computer Hardware Development   Information Technology   \n",
       "1      2002              Company - Private     Software Development   \n",
       "2      1994               Company - Public  Internet & Web Services   \n",
       "3        -1                             -1                       -1   \n",
       "4        -1                             -1                       -1   \n",
       "\n",
       "                     sector                     revenue  \n",
       "0  $10 to $25 million (USD)                          -1  \n",
       "1    Information Technology  Less than $1 million (USD)  \n",
       "2    Information Technology          $10+ billion (USD)  \n",
       "3                        -1                          -1  \n",
       "4                        -1                          -1  "
      ]
     },
     "execution_count": 2,
     "metadata": {},
     "output_type": "execute_result"
    }
   ],
   "source": [
    "df.head(5)"
   ]
  },
  {
   "cell_type": "markdown",
   "metadata": {},
   "source": [
    "### salary parsing \n"
   ]
  },
  {
   "cell_type": "code",
   "execution_count": 3,
   "metadata": {},
   "outputs": [
    {
     "data": {
      "text/plain": [
       "0    482\n",
       "1     18\n",
       "Name: hourly, dtype: int64"
      ]
     },
     "execution_count": 3,
     "metadata": {},
     "output_type": "execute_result"
    }
   ],
   "source": [
    "# crear una columna que salve si el salario es calculado por hora\n",
    "df['hourly'] = df['Salary Estimate'].apply(lambda x: 1 if '/hr' in x.lower() else 0)\n",
    "df['hourly'].value_counts()"
   ]
  },
  {
   "cell_type": "code",
   "execution_count": 4,
   "metadata": {},
   "outputs": [
    {
     "data": {
      "text/plain": [
       "67,515      22\n",
       "87,202      19\n",
       "77,587      17\n",
       "105,886     16\n",
       "87,765      16\n",
       "            ..\n",
       "127,300      1\n",
       "95,021       1\n",
       "69,690       1\n",
       "70,142       1\n",
       "112,205      1\n",
       "Name: salary, Length: 75, dtype: int64"
      ]
     },
     "execution_count": 4,
     "metadata": {},
     "output_type": "execute_result"
    }
   ],
   "source": [
    "salary = df['Salary Estimate'].apply(lambda x: x.split('/')[0])\n",
    "df['salary'] = salary.apply(lambda x: x.replace('$',''))\n",
    "df['salary'].value_counts()"
   ]
  },
  {
   "cell_type": "code",
   "execution_count": 5,
   "metadata": {},
   "outputs": [
    {
     "data": {
      "text/plain": [
       "Remote        95\n",
       " NY           77\n",
       " WA           74\n",
       " MA           54\n",
       " CO           37\n",
       " TX           23\n",
       " CA           20\n",
       " MD           17\n",
       " PA           15\n",
       " VA           13\n",
       " NC           12\n",
       "Manhattan     11\n",
       " TN           10\n",
       " DC           10\n",
       " RI            7\n",
       " MI            6\n",
       " FL            5\n",
       " GA            3\n",
       " CT            3\n",
       " IL            1\n",
       " MO            1\n",
       " MN            1\n",
       "California     1\n",
       "Maryland       1\n",
       "Illinois       1\n",
       " UT            1\n",
       " WI            1\n",
       "Name: job_state, dtype: int64"
      ]
     },
     "execution_count": 5,
     "metadata": {},
     "output_type": "execute_result"
    }
   ],
   "source": [
    "df['job_state'] = df[\"Location\"].apply(lambda x: x if \",\" not in x else x.split(',')[1])\n",
    "df.job_state.value_counts()"
   ]
  },
  {
   "cell_type": "code",
   "execution_count": 8,
   "metadata": {},
   "outputs": [
    {
     "data": {
      "text/plain": [
       "Remote    95\n",
       "NY        77\n",
       "WA        74\n",
       "MA        54\n",
       "CO        37\n",
       "TX        23\n",
       "CA        21\n",
       "MD        18\n",
       "PA        15\n",
       "VA        13\n",
       "NC        12\n",
       "MNY       11\n",
       "DC        10\n",
       "TN        10\n",
       "RI         7\n",
       "MI         6\n",
       "FL         5\n",
       "GA         3\n",
       "CT         3\n",
       "IL         2\n",
       "MN         1\n",
       "UT         1\n",
       "WI         1\n",
       "MO         1\n",
       "Name: job_state, dtype: int64"
      ]
     },
     "execution_count": 8,
     "metadata": {},
     "output_type": "execute_result"
    }
   ],
   "source": [
    "df['job_state'] = df[\"job_state\"].apply(lambda x: \"MD\" if x == \"Maryland\" else x)\n",
    "df['job_state'] = df[\"job_state\"].apply(lambda x: \"CA\" if x == \"California\" else x)\n",
    "df['job_state'] = df[\"job_state\"].apply(lambda x: \"MNY\" if x == \"Manhattan\" else x)\n",
    "df['job_state'] = df[\"job_state\"].apply(lambda x: \"IL\" if x == \"Illinois\" else x)\n",
    "df['job_state'] = df['job_state'].apply(lambda x: x.strip())\n",
    "df.job_state.value_counts()\n"
   ]
  },
  {
   "cell_type": "code",
   "execution_count": 9,
   "metadata": {},
   "outputs": [
    {
     "data": {
      "text/plain": [
       "0    476\n",
       "1     24\n",
       "Name: python_yn, dtype: int64"
      ]
     },
     "execution_count": 9,
     "metadata": {},
     "output_type": "execute_result"
    }
   ],
   "source": [
    "#python\n",
    "df['python_yn'] = df['Job Description'].apply(lambda x: 1 if 'python' in x.lower() else 0)\n",
    "df['python_yn'].value_counts()"
   ]
  },
  {
   "cell_type": "code",
   "execution_count": 10,
   "metadata": {},
   "outputs": [
    {
     "data": {
      "text/plain": [
       "0    468\n",
       "1     32\n",
       "Name: Java_yn, dtype: int64"
      ]
     },
     "execution_count": 10,
     "metadata": {},
     "output_type": "execute_result"
    }
   ],
   "source": [
    "df['Java_yn'] = df['Job Description'].apply(lambda x: 1 if 'java' in x.lower() else 0)\n",
    "df['Java_yn'].value_counts()"
   ]
  },
  {
   "cell_type": "code",
   "execution_count": 11,
   "metadata": {},
   "outputs": [
    {
     "data": {
      "text/plain": [
       "0    500\n",
       "Name: Rlang_yn, dtype: int64"
      ]
     },
     "execution_count": 11,
     "metadata": {},
     "output_type": "execute_result"
    }
   ],
   "source": [
    "df['Rlang_yn'] = df['Job Description'].apply(lambda x: 1 if 'r studio' in x.lower() or \\\n",
    "                                                            'r-studio' in x.lower() or \\\n",
    "                                                            'rlang'in x.lower() or \\\n",
    "                                                            'r lang' in x.lower() else 0)\n",
    "df['Rlang_yn'].value_counts()"
   ]
  },
  {
   "cell_type": "code",
   "execution_count": 12,
   "metadata": {},
   "outputs": [
    {
     "data": {
      "text/plain": [
       "0    478\n",
       "1     22\n",
       "Name: JS_yn, dtype: int64"
      ]
     },
     "execution_count": 12,
     "metadata": {},
     "output_type": "execute_result"
    }
   ],
   "source": [
    "df['JS_yn'] = df['Job Description'].apply(lambda x: 1 if 'javascript' in x.lower() else 0)\n",
    "df['JS_yn'].value_counts()"
   ]
  },
  {
   "cell_type": "code",
   "execution_count": 13,
   "metadata": {},
   "outputs": [
    {
     "data": {
      "text/plain": [
       "0    487\n",
       "1     13\n",
       "Name: SQL_yn, dtype: int64"
      ]
     },
     "execution_count": 13,
     "metadata": {},
     "output_type": "execute_result"
    }
   ],
   "source": [
    "df['SQL_yn'] = df['Job Description'].apply(lambda x: 1 if 'sql' in x.lower() else 0)\n",
    "df['SQL_yn'].value_counts()"
   ]
  },
  {
   "cell_type": "code",
   "execution_count": 14,
   "metadata": {},
   "outputs": [
    {
     "data": {
      "text/plain": [
       "0    464\n",
       "1     36\n",
       "Name: Excel_yn, dtype: int64"
      ]
     },
     "execution_count": 14,
     "metadata": {},
     "output_type": "execute_result"
    }
   ],
   "source": [
    "df['Excel_yn'] = df['Job Description'].apply(lambda x: 1 if 'excel' in x.lower() else 0)\n",
    "df['Excel_yn'].value_counts()"
   ]
  },
  {
   "cell_type": "code",
   "execution_count": 15,
   "metadata": {},
   "outputs": [
    {
     "data": {
      "text/plain": [
       "0    491\n",
       "1      9\n",
       "Name: Spark_yn, dtype: int64"
      ]
     },
     "execution_count": 15,
     "metadata": {},
     "output_type": "execute_result"
    }
   ],
   "source": [
    "df['Spark_yn'] = df['Job Description'].apply(lambda x: 1 if 'spark' in x.lower() else 0)\n",
    "df['Spark_yn'].value_counts()"
   ]
  },
  {
   "cell_type": "code",
   "execution_count": 16,
   "metadata": {},
   "outputs": [
    {
     "data": {
      "text/plain": [
       "0    495\n",
       "1      5\n",
       "Name: AWS_yn, dtype: int64"
      ]
     },
     "execution_count": 16,
     "metadata": {},
     "output_type": "execute_result"
    }
   ],
   "source": [
    "df['AWS_yn'] = df['Job Description'].apply(lambda x: 1 if 'aws' in x.lower() else 0)\n",
    "df['AWS_yn'].value_counts()"
   ]
  },
  {
   "cell_type": "code",
   "execution_count": 17,
   "metadata": {},
   "outputs": [],
   "source": [
    "df_out = df.drop(['Unnamed: 0'], axis =1)"
   ]
  },
  {
   "cell_type": "code",
   "execution_count": 18,
   "metadata": {},
   "outputs": [],
   "source": [
    "df_out.to_csv('salary_data_cleaned.csv',index = False)\n"
   ]
  }
 ],
 "metadata": {
  "kernelspec": {
   "display_name": "Python 3.9.7 ('base')",
   "language": "python",
   "name": "python3"
  },
  "language_info": {
   "codemirror_mode": {
    "name": "ipython",
    "version": 3
   },
   "file_extension": ".py",
   "mimetype": "text/x-python",
   "name": "python",
   "nbconvert_exporter": "python",
   "pygments_lexer": "ipython3",
   "version": "3.9.7"
  },
  "orig_nbformat": 4,
  "vscode": {
   "interpreter": {
    "hash": "af0f9bca1ba68d2d452cd02df4f4e91e7ec99f6a433ca7b0cf2cb372fa0b4e4a"
   }
  }
 },
 "nbformat": 4,
 "nbformat_minor": 2
}
