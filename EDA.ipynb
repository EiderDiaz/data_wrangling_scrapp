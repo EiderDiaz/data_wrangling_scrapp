{
 "cells": [
  {
   "cell_type": "code",
   "execution_count": 42,
   "metadata": {},
   "outputs": [],
   "source": [
    "import pandas as pd\n",
    "import matplotlib.pyplot as plt \n",
    "import seaborn as sns "
   ]
  },
  {
   "cell_type": "code",
   "execution_count": 43,
   "metadata": {},
   "outputs": [
    {
     "data": {
      "text/html": [
       "<div>\n",
       "<style scoped>\n",
       "    .dataframe tbody tr th:only-of-type {\n",
       "        vertical-align: middle;\n",
       "    }\n",
       "\n",
       "    .dataframe tbody tr th {\n",
       "        vertical-align: top;\n",
       "    }\n",
       "\n",
       "    .dataframe thead th {\n",
       "        text-align: right;\n",
       "    }\n",
       "</style>\n",
       "<table border=\"1\" class=\"dataframe\">\n",
       "  <thead>\n",
       "    <tr style=\"text-align: right;\">\n",
       "      <th></th>\n",
       "      <th>Job Title</th>\n",
       "      <th>Company Name</th>\n",
       "      <th>Location</th>\n",
       "      <th>Salary Estimate</th>\n",
       "      <th>Rating</th>\n",
       "      <th>Job Description</th>\n",
       "      <th>size</th>\n",
       "      <th>founded</th>\n",
       "      <th>type</th>\n",
       "      <th>industry</th>\n",
       "      <th>...</th>\n",
       "      <th>salary</th>\n",
       "      <th>job_state</th>\n",
       "      <th>python_yn</th>\n",
       "      <th>Java_yn</th>\n",
       "      <th>Rlang_yn</th>\n",
       "      <th>JS_yn</th>\n",
       "      <th>SQL_yn</th>\n",
       "      <th>Excel_yn</th>\n",
       "      <th>Spark_yn</th>\n",
       "      <th>AWS_yn</th>\n",
       "    </tr>\n",
       "  </thead>\n",
       "  <tbody>\n",
       "    <tr>\n",
       "      <th>0</th>\n",
       "      <td>Data Scientist</td>\n",
       "      <td>Agama Solutions</td>\n",
       "      <td>San Francisco, CA</td>\n",
       "      <td>$75.00 /hr (est.)</td>\n",
       "      <td>3.8</td>\n",
       "      <td>Position Title: Data Scientist\\n\\nLocation: Ba...</td>\n",
       "      <td>51 to 200 Employees</td>\n",
       "      <td>Contract</td>\n",
       "      <td>Computer Hardware Development</td>\n",
       "      <td>Information Technology</td>\n",
       "      <td>...</td>\n",
       "      <td>75.00</td>\n",
       "      <td>CA</td>\n",
       "      <td>0</td>\n",
       "      <td>0</td>\n",
       "      <td>0</td>\n",
       "      <td>0</td>\n",
       "      <td>0</td>\n",
       "      <td>0</td>\n",
       "      <td>0</td>\n",
       "      <td>0</td>\n",
       "    </tr>\n",
       "    <tr>\n",
       "      <th>1</th>\n",
       "      <td>Entry Level Data Analyst (Part-time)</td>\n",
       "      <td>CORMAC</td>\n",
       "      <td>Remote</td>\n",
       "      <td>$75.00 /hr (est.)</td>\n",
       "      <td>3.4</td>\n",
       "      <td>HUB Zone residence is a requirement for this j...</td>\n",
       "      <td>Unknown</td>\n",
       "      <td>2002</td>\n",
       "      <td>Company - Private</td>\n",
       "      <td>Software Development</td>\n",
       "      <td>...</td>\n",
       "      <td>75.00</td>\n",
       "      <td>Remote</td>\n",
       "      <td>0</td>\n",
       "      <td>0</td>\n",
       "      <td>0</td>\n",
       "      <td>0</td>\n",
       "      <td>0</td>\n",
       "      <td>0</td>\n",
       "      <td>0</td>\n",
       "      <td>0</td>\n",
       "    </tr>\n",
       "    <tr>\n",
       "      <th>2</th>\n",
       "      <td>Front End Engineer, MADS- Measurement and Data...</td>\n",
       "      <td>Amazon.com Services LLC</td>\n",
       "      <td>Boulder, CO</td>\n",
       "      <td>$93,800 /yr (est.)</td>\n",
       "      <td>3.8</td>\n",
       "      <td>Professional non-internship experience with fr...</td>\n",
       "      <td>10000+ Employees</td>\n",
       "      <td>1994</td>\n",
       "      <td>Company - Public</td>\n",
       "      <td>Internet &amp; Web Services</td>\n",
       "      <td>...</td>\n",
       "      <td>93,800</td>\n",
       "      <td>CO</td>\n",
       "      <td>0</td>\n",
       "      <td>1</td>\n",
       "      <td>0</td>\n",
       "      <td>1</td>\n",
       "      <td>0</td>\n",
       "      <td>0</td>\n",
       "      <td>0</td>\n",
       "      <td>0</td>\n",
       "    </tr>\n",
       "    <tr>\n",
       "      <th>3</th>\n",
       "      <td>Jr. Data Scientist</td>\n",
       "      <td>Net2Aspire LLC</td>\n",
       "      <td>Remote</td>\n",
       "      <td>$82,500 /yr (est.)</td>\n",
       "      <td>-1.0</td>\n",
       "      <td> Apply Statistical and Machine Learning metho...</td>\n",
       "      <td>-1</td>\n",
       "      <td>-1</td>\n",
       "      <td>-1</td>\n",
       "      <td>-1</td>\n",
       "      <td>...</td>\n",
       "      <td>82,500</td>\n",
       "      <td>Remote</td>\n",
       "      <td>0</td>\n",
       "      <td>0</td>\n",
       "      <td>0</td>\n",
       "      <td>0</td>\n",
       "      <td>0</td>\n",
       "      <td>0</td>\n",
       "      <td>0</td>\n",
       "      <td>0</td>\n",
       "    </tr>\n",
       "    <tr>\n",
       "      <th>4</th>\n",
       "      <td>Healthcare Data Scientist</td>\n",
       "      <td>Humbi Health LLC</td>\n",
       "      <td>Remote</td>\n",
       "      <td>$175,000 /yr (est.)</td>\n",
       "      <td>-1.0</td>\n",
       "      <td>Humbi Health is looking for highly analytical ...</td>\n",
       "      <td>-1</td>\n",
       "      <td>-1</td>\n",
       "      <td>-1</td>\n",
       "      <td>-1</td>\n",
       "      <td>...</td>\n",
       "      <td>175,000</td>\n",
       "      <td>Remote</td>\n",
       "      <td>0</td>\n",
       "      <td>0</td>\n",
       "      <td>0</td>\n",
       "      <td>0</td>\n",
       "      <td>0</td>\n",
       "      <td>0</td>\n",
       "      <td>0</td>\n",
       "      <td>0</td>\n",
       "    </tr>\n",
       "    <tr>\n",
       "      <th>...</th>\n",
       "      <td>...</td>\n",
       "      <td>...</td>\n",
       "      <td>...</td>\n",
       "      <td>...</td>\n",
       "      <td>...</td>\n",
       "      <td>...</td>\n",
       "      <td>...</td>\n",
       "      <td>...</td>\n",
       "      <td>...</td>\n",
       "      <td>...</td>\n",
       "      <td>...</td>\n",
       "      <td>...</td>\n",
       "      <td>...</td>\n",
       "      <td>...</td>\n",
       "      <td>...</td>\n",
       "      <td>...</td>\n",
       "      <td>...</td>\n",
       "      <td>...</td>\n",
       "      <td>...</td>\n",
       "      <td>...</td>\n",
       "      <td>...</td>\n",
       "    </tr>\n",
       "    <tr>\n",
       "      <th>495</th>\n",
       "      <td>STATISTICAL ASSISTANT</td>\n",
       "      <td>UTOFUN</td>\n",
       "      <td>Manhattan</td>\n",
       "      <td>$37,070 /yr (est.)</td>\n",
       "      <td>4.1</td>\n",
       "      <td>Overview\\nThe UTOFUN is the leading internet s...</td>\n",
       "      <td>1 to 50 Employees</td>\n",
       "      <td>Company - Private</td>\n",
       "      <td>Unknown / Non-Applicable</td>\n",
       "      <td>-1</td>\n",
       "      <td>...</td>\n",
       "      <td>37,070</td>\n",
       "      <td>MNY</td>\n",
       "      <td>0</td>\n",
       "      <td>0</td>\n",
       "      <td>0</td>\n",
       "      <td>0</td>\n",
       "      <td>0</td>\n",
       "      <td>0</td>\n",
       "      <td>0</td>\n",
       "      <td>0</td>\n",
       "    </tr>\n",
       "    <tr>\n",
       "      <th>496</th>\n",
       "      <td>2022 Graduate Fellow Data Science Co-op</td>\n",
       "      <td>Merck</td>\n",
       "      <td>North Wales, PA</td>\n",
       "      <td>$83,375 /yr (est.)</td>\n",
       "      <td>4.1</td>\n",
       "      <td>Job Description\\nNew hires in office-based rol...</td>\n",
       "      <td>10000+ Employees</td>\n",
       "      <td>1891</td>\n",
       "      <td>Company - Public</td>\n",
       "      <td>Biotech &amp; Pharmaceuticals</td>\n",
       "      <td>...</td>\n",
       "      <td>83,375</td>\n",
       "      <td>PA</td>\n",
       "      <td>0</td>\n",
       "      <td>0</td>\n",
       "      <td>0</td>\n",
       "      <td>0</td>\n",
       "      <td>0</td>\n",
       "      <td>0</td>\n",
       "      <td>0</td>\n",
       "      <td>0</td>\n",
       "    </tr>\n",
       "    <tr>\n",
       "      <th>497</th>\n",
       "      <td>Student Employee - Data Science</td>\n",
       "      <td>Electric Power Research Institute</td>\n",
       "      <td>Charlotte, NC</td>\n",
       "      <td>$75,720 /yr (est.)</td>\n",
       "      <td>5.0</td>\n",
       "      <td>Job Title:\\nStudent Employee - Data Science\\nL...</td>\n",
       "      <td>Unknown</td>\n",
       "      <td>Company - Private</td>\n",
       "      <td>Unknown / Non-Applicable</td>\n",
       "      <td>-1</td>\n",
       "      <td>...</td>\n",
       "      <td>75,720</td>\n",
       "      <td>NC</td>\n",
       "      <td>0</td>\n",
       "      <td>0</td>\n",
       "      <td>0</td>\n",
       "      <td>0</td>\n",
       "      <td>0</td>\n",
       "      <td>0</td>\n",
       "      <td>0</td>\n",
       "      <td>0</td>\n",
       "    </tr>\n",
       "    <tr>\n",
       "      <th>498</th>\n",
       "      <td>Data Analyst</td>\n",
       "      <td>Hulu</td>\n",
       "      <td>Santa Monica, CA</td>\n",
       "      <td>$87,765 /yr (est.)</td>\n",
       "      <td>3.9</td>\n",
       "      <td>We are seeking a Data Analyst who will focus o...</td>\n",
       "      <td>1001 to 5000 Employees</td>\n",
       "      <td>2007</td>\n",
       "      <td>Company - Private</td>\n",
       "      <td>Broadcast Media</td>\n",
       "      <td>...</td>\n",
       "      <td>87,765</td>\n",
       "      <td>CA</td>\n",
       "      <td>0</td>\n",
       "      <td>0</td>\n",
       "      <td>0</td>\n",
       "      <td>0</td>\n",
       "      <td>0</td>\n",
       "      <td>0</td>\n",
       "      <td>0</td>\n",
       "      <td>0</td>\n",
       "    </tr>\n",
       "    <tr>\n",
       "      <th>499</th>\n",
       "      <td>Quantitative Researcher</td>\n",
       "      <td>TikTok</td>\n",
       "      <td>New York, NY</td>\n",
       "      <td>$129,369 /yr (est.)</td>\n",
       "      <td>3.6</td>\n",
       "      <td>About TikTok\\n\\nOur mission is to inspire crea...</td>\n",
       "      <td>1001 to 5000 Employees</td>\n",
       "      <td>2016</td>\n",
       "      <td>Company - Private</td>\n",
       "      <td>Internet &amp; Web Services</td>\n",
       "      <td>...</td>\n",
       "      <td>129,369</td>\n",
       "      <td>NY</td>\n",
       "      <td>0</td>\n",
       "      <td>0</td>\n",
       "      <td>0</td>\n",
       "      <td>0</td>\n",
       "      <td>0</td>\n",
       "      <td>0</td>\n",
       "      <td>0</td>\n",
       "      <td>0</td>\n",
       "    </tr>\n",
       "  </tbody>\n",
       "</table>\n",
       "<p>500 rows × 23 columns</p>\n",
       "</div>"
      ],
      "text/plain": [
       "                                             Job Title  \\\n",
       "0                                       Data Scientist   \n",
       "1                 Entry Level Data Analyst (Part-time)   \n",
       "2    Front End Engineer, MADS- Measurement and Data...   \n",
       "3                                   Jr. Data Scientist   \n",
       "4                            Healthcare Data Scientist   \n",
       "..                                                 ...   \n",
       "495                              STATISTICAL ASSISTANT   \n",
       "496            2022 Graduate Fellow Data Science Co-op   \n",
       "497                    Student Employee - Data Science   \n",
       "498                                       Data Analyst   \n",
       "499                            Quantitative Researcher   \n",
       "\n",
       "                          Company Name           Location  \\\n",
       "0                      Agama Solutions  San Francisco, CA   \n",
       "1                               CORMAC             Remote   \n",
       "2              Amazon.com Services LLC        Boulder, CO   \n",
       "3                       Net2Aspire LLC             Remote   \n",
       "4                     Humbi Health LLC             Remote   \n",
       "..                                 ...                ...   \n",
       "495                             UTOFUN          Manhattan   \n",
       "496                              Merck    North Wales, PA   \n",
       "497  Electric Power Research Institute      Charlotte, NC   \n",
       "498                               Hulu   Santa Monica, CA   \n",
       "499                             TikTok       New York, NY   \n",
       "\n",
       "         Salary Estimate  Rating  \\\n",
       "0      $75.00 /hr (est.)     3.8   \n",
       "1      $75.00 /hr (est.)     3.4   \n",
       "2     $93,800 /yr (est.)     3.8   \n",
       "3     $82,500 /yr (est.)    -1.0   \n",
       "4    $175,000 /yr (est.)    -1.0   \n",
       "..                   ...     ...   \n",
       "495   $37,070 /yr (est.)     4.1   \n",
       "496   $83,375 /yr (est.)     4.1   \n",
       "497   $75,720 /yr (est.)     5.0   \n",
       "498   $87,765 /yr (est.)     3.9   \n",
       "499  $129,369 /yr (est.)     3.6   \n",
       "\n",
       "                                       Job Description  \\\n",
       "0    Position Title: Data Scientist\\n\\nLocation: Ba...   \n",
       "1    HUB Zone residence is a requirement for this j...   \n",
       "2    Professional non-internship experience with fr...   \n",
       "3     Apply Statistical and Machine Learning metho...   \n",
       "4    Humbi Health is looking for highly analytical ...   \n",
       "..                                                 ...   \n",
       "495  Overview\\nThe UTOFUN is the leading internet s...   \n",
       "496  Job Description\\nNew hires in office-based rol...   \n",
       "497  Job Title:\\nStudent Employee - Data Science\\nL...   \n",
       "498  We are seeking a Data Analyst who will focus o...   \n",
       "499  About TikTok\\n\\nOur mission is to inspire crea...   \n",
       "\n",
       "                       size            founded                           type  \\\n",
       "0       51 to 200 Employees           Contract  Computer Hardware Development   \n",
       "1                   Unknown               2002              Company - Private   \n",
       "2          10000+ Employees               1994               Company - Public   \n",
       "3                        -1                 -1                             -1   \n",
       "4                        -1                 -1                             -1   \n",
       "..                      ...                ...                            ...   \n",
       "495       1 to 50 Employees  Company - Private       Unknown / Non-Applicable   \n",
       "496        10000+ Employees               1891               Company - Public   \n",
       "497                 Unknown  Company - Private       Unknown / Non-Applicable   \n",
       "498  1001 to 5000 Employees               2007              Company - Private   \n",
       "499  1001 to 5000 Employees               2016              Company - Private   \n",
       "\n",
       "                      industry  ...    salary job_state  python_yn Java_yn  \\\n",
       "0       Information Technology  ...    75.00         CA          0       0   \n",
       "1         Software Development  ...    75.00     Remote          0       0   \n",
       "2      Internet & Web Services  ...   93,800         CO          0       1   \n",
       "3                           -1  ...   82,500     Remote          0       0   \n",
       "4                           -1  ...  175,000     Remote          0       0   \n",
       "..                         ...  ...       ...       ...        ...     ...   \n",
       "495                         -1  ...   37,070        MNY          0       0   \n",
       "496  Biotech & Pharmaceuticals  ...   83,375         PA          0       0   \n",
       "497                         -1  ...   75,720         NC          0       0   \n",
       "498            Broadcast Media  ...   87,765         CA          0       0   \n",
       "499    Internet & Web Services  ...  129,369         NY          0       0   \n",
       "\n",
       "    Rlang_yn  JS_yn  SQL_yn  Excel_yn  Spark_yn  AWS_yn  \n",
       "0          0      0       0         0         0       0  \n",
       "1          0      0       0         0         0       0  \n",
       "2          0      1       0         0         0       0  \n",
       "3          0      0       0         0         0       0  \n",
       "4          0      0       0         0         0       0  \n",
       "..       ...    ...     ...       ...       ...     ...  \n",
       "495        0      0       0         0         0       0  \n",
       "496        0      0       0         0         0       0  \n",
       "497        0      0       0         0         0       0  \n",
       "498        0      0       0         0         0       0  \n",
       "499        0      0       0         0         0       0  \n",
       "\n",
       "[500 rows x 23 columns]"
      ]
     },
     "execution_count": 43,
     "metadata": {},
     "output_type": "execute_result"
    }
   ],
   "source": [
    "df = pd.read_csv(\"salary_data_cleaned.csv\")\n",
    "df"
   ]
  },
  {
   "cell_type": "code",
   "execution_count": 44,
   "metadata": {},
   "outputs": [],
   "source": [
    "def title_simplifier(title):\n",
    "    if 'data scientist' in title.lower() or 'data science' in title.lower():\n",
    "        return 'data scientist'\n",
    "    elif 'data engineer' in title.lower():\n",
    "        return 'data engineer'\n",
    "    elif 'analyst' in title.lower():\n",
    "        return 'analyst'\n",
    "    elif 'machine learning' in title.lower():\n",
    "        return 'mle'\n",
    "    elif 'manager' in title.lower():\n",
    "        return 'manager'\n",
    "    elif 'director' in title.lower():\n",
    "        return 'director'\n",
    "    elif 'research' in title.lower():\n",
    "        return 'researcher'\n",
    "    else:\n",
    "        return 'na'\n",
    "\n",
    "def seniority(title):\n",
    "    if 'sr' in title.lower() or 'senior' in title.lower() or 'sr' in title.lower() or 'lead' in title.lower() or 'head' in title.lower() or 'principal' in title.lower():\n",
    "            return 'senior'\n",
    "    elif 'jr' in title.lower() or 'jr.' in title.lower():\n",
    "        return 'jr'\n",
    "    else:\n",
    "        return 'mid'"
   ]
  },
  {
   "cell_type": "code",
   "execution_count": 45,
   "metadata": {},
   "outputs": [
    {
     "data": {
      "text/plain": [
       "data scientist    285\n",
       "na                 84\n",
       "analyst            78\n",
       "data engineer      25\n",
       "researcher         19\n",
       "mle                 9\n",
       "Name: job_simp, dtype: int64"
      ]
     },
     "execution_count": 45,
     "metadata": {},
     "output_type": "execute_result"
    }
   ],
   "source": [
    "df['job_simp'] = df['Job Title'].apply(title_simplifier)\n",
    "df.job_simp.value_counts()\n"
   ]
  },
  {
   "cell_type": "code",
   "execution_count": 46,
   "metadata": {},
   "outputs": [
    {
     "data": {
      "text/plain": [
       "mid    473\n",
       "jr      27\n",
       "Name: seniority, dtype: int64"
      ]
     },
     "execution_count": 46,
     "metadata": {},
     "output_type": "execute_result"
    }
   ],
   "source": [
    "df['seniority'] = df['Job Title'].apply(seniority)\n",
    "df.seniority.value_counts()"
   ]
  },
  {
   "cell_type": "code",
   "execution_count": 47,
   "metadata": {},
   "outputs": [
    {
     "data": {
      "text/plain": [
       "0       133\n",
       "1       697\n",
       "2      2108\n",
       "3       855\n",
       "4      1157\n",
       "       ... \n",
       "495    1221\n",
       "496     957\n",
       "497     639\n",
       "498     915\n",
       "499    1536\n",
       "Name: desc_len, Length: 500, dtype: int64"
      ]
     },
     "execution_count": 47,
     "metadata": {},
     "output_type": "execute_result"
    }
   ],
   "source": [
    "#  Job description length \n",
    "df['desc_len'] = df['Job Description'].apply(lambda x: len(x))\n",
    "df['desc_len']"
   ]
  },
  {
   "cell_type": "code",
   "execution_count": 48,
   "metadata": {},
   "outputs": [
    {
     "data": {
      "text/plain": [
       "0        75.00 \n",
       "1        75.00 \n",
       "2       93,800 \n",
       "3       82,500 \n",
       "4      175,000 \n",
       "         ...   \n",
       "495     37,070 \n",
       "496     83,375 \n",
       "497     75,720 \n",
       "498     87,765 \n",
       "499    129,369 \n",
       "Name: salary, Length: 500, dtype: object"
      ]
     },
     "execution_count": 48,
     "metadata": {},
     "output_type": "execute_result"
    }
   ],
   "source": [
    "df.salary"
   ]
  },
  {
   "cell_type": "code",
   "execution_count": 49,
   "metadata": {},
   "outputs": [
    {
     "data": {
      "text/plain": [
       "Index(['Job Title', 'Company Name', 'Location', 'Salary Estimate', 'Rating',\n",
       "       'Job Description', 'size', 'founded', 'type', 'industry', 'sector',\n",
       "       'revenue', 'hourly', 'salary', 'job_state', 'python_yn', 'Java_yn',\n",
       "       'Rlang_yn', 'JS_yn', 'SQL_yn', 'Excel_yn', 'Spark_yn', 'AWS_yn',\n",
       "       'job_simp', 'seniority', 'desc_len'],\n",
       "      dtype='object')"
      ]
     },
     "execution_count": 49,
     "metadata": {},
     "output_type": "execute_result"
    }
   ],
   "source": [
    "df.columns"
   ]
  },
  {
   "cell_type": "code",
   "execution_count": 50,
   "metadata": {},
   "outputs": [
    {
     "name": "stderr",
     "output_type": "stream",
     "text": [
      "/var/folders/n2/np9y87ks47j0gqm4v82gvddh0000gn/T/ipykernel_16178/2880199962.py:4: SettingWithCopyWarning: \n",
      "A value is trying to be set on a copy of a slice from a DataFrame.\n",
      "Try using .loc[row_indexer,col_indexer] = value instead\n",
      "\n",
      "See the caveats in the documentation: https://pandas.pydata.org/pandas-docs/stable/user_guide/indexing.html#returning-a-view-versus-a-copy\n",
      "  df[\"salary\"] = df[\"salary\"].apply(lambda x : x.replace(',','' ))\n",
      "/var/folders/n2/np9y87ks47j0gqm4v82gvddh0000gn/T/ipykernel_16178/2880199962.py:6: SettingWithCopyWarning: \n",
      "A value is trying to be set on a copy of a slice from a DataFrame.\n",
      "Try using .loc[row_indexer,col_indexer] = value instead\n",
      "\n",
      "See the caveats in the documentation: https://pandas.pydata.org/pandas-docs/stable/user_guide/indexing.html#returning-a-view-versus-a-copy\n",
      "  df[\"salary\"] = pd.to_numeric(df[\"salary\"])\n"
     ]
    },
    {
     "data": {
      "text/plain": [
       "67515     22\n",
       "87202     19\n",
       "77587     17\n",
       "87765     16\n",
       "105886    16\n",
       "          ..\n",
       "88274      1\n",
       "70142      1\n",
       "113592     1\n",
       "108800     1\n",
       "98818      1\n",
       "Name: salary, Length: 68, dtype: int64"
      ]
     },
     "execution_count": 50,
     "metadata": {},
     "output_type": "execute_result"
    }
   ],
   "source": [
    "#eliminate the hourly estimate jobs\n",
    "df = df[df[\"hourly\"] == 0]\n",
    "#eliminate the coma (,)  \n",
    "df[\"salary\"] = df[\"salary\"].apply(lambda x : x.replace(',','' ))\n",
    "# transform salary column to numeric\n",
    "df[\"salary\"] = pd.to_numeric(df[\"salary\"])\n",
    "#view the value counts\n",
    "df[\"salary\"].value_counts() "
   ]
  },
  {
   "cell_type": "code",
   "execution_count": 51,
   "metadata": {},
   "outputs": [
    {
     "data": {
      "text/html": [
       "<div>\n",
       "<style scoped>\n",
       "    .dataframe tbody tr th:only-of-type {\n",
       "        vertical-align: middle;\n",
       "    }\n",
       "\n",
       "    .dataframe tbody tr th {\n",
       "        vertical-align: top;\n",
       "    }\n",
       "\n",
       "    .dataframe thead th {\n",
       "        text-align: right;\n",
       "    }\n",
       "</style>\n",
       "<table border=\"1\" class=\"dataframe\">\n",
       "  <thead>\n",
       "    <tr style=\"text-align: right;\">\n",
       "      <th></th>\n",
       "      <th>Rating</th>\n",
       "      <th>hourly</th>\n",
       "      <th>salary</th>\n",
       "      <th>python_yn</th>\n",
       "      <th>Java_yn</th>\n",
       "      <th>Rlang_yn</th>\n",
       "      <th>JS_yn</th>\n",
       "      <th>SQL_yn</th>\n",
       "      <th>Excel_yn</th>\n",
       "      <th>Spark_yn</th>\n",
       "      <th>AWS_yn</th>\n",
       "      <th>desc_len</th>\n",
       "    </tr>\n",
       "  </thead>\n",
       "  <tbody>\n",
       "    <tr>\n",
       "      <th>count</th>\n",
       "      <td>482.000000</td>\n",
       "      <td>482.0</td>\n",
       "      <td>482.000000</td>\n",
       "      <td>482.000000</td>\n",
       "      <td>482.000000</td>\n",
       "      <td>482.0</td>\n",
       "      <td>482.000000</td>\n",
       "      <td>482.000000</td>\n",
       "      <td>482.000000</td>\n",
       "      <td>482.000000</td>\n",
       "      <td>482.000000</td>\n",
       "      <td>482.000000</td>\n",
       "    </tr>\n",
       "    <tr>\n",
       "      <th>mean</th>\n",
       "      <td>3.486722</td>\n",
       "      <td>0.0</td>\n",
       "      <td>89430.319502</td>\n",
       "      <td>0.047718</td>\n",
       "      <td>0.066390</td>\n",
       "      <td>0.0</td>\n",
       "      <td>0.045643</td>\n",
       "      <td>0.026971</td>\n",
       "      <td>0.074689</td>\n",
       "      <td>0.018672</td>\n",
       "      <td>0.010373</td>\n",
       "      <td>1108.912863</td>\n",
       "    </tr>\n",
       "    <tr>\n",
       "      <th>std</th>\n",
       "      <td>1.452144</td>\n",
       "      <td>0.0</td>\n",
       "      <td>22930.118152</td>\n",
       "      <td>0.213390</td>\n",
       "      <td>0.249221</td>\n",
       "      <td>0.0</td>\n",
       "      <td>0.208927</td>\n",
       "      <td>0.162167</td>\n",
       "      <td>0.263162</td>\n",
       "      <td>0.135505</td>\n",
       "      <td>0.101426</td>\n",
       "      <td>623.963277</td>\n",
       "    </tr>\n",
       "    <tr>\n",
       "      <th>min</th>\n",
       "      <td>-1.000000</td>\n",
       "      <td>0.0</td>\n",
       "      <td>37070.000000</td>\n",
       "      <td>0.000000</td>\n",
       "      <td>0.000000</td>\n",
       "      <td>0.0</td>\n",
       "      <td>0.000000</td>\n",
       "      <td>0.000000</td>\n",
       "      <td>0.000000</td>\n",
       "      <td>0.000000</td>\n",
       "      <td>0.000000</td>\n",
       "      <td>149.000000</td>\n",
       "    </tr>\n",
       "    <tr>\n",
       "      <th>25%</th>\n",
       "      <td>3.600000</td>\n",
       "      <td>0.0</td>\n",
       "      <td>75000.000000</td>\n",
       "      <td>0.000000</td>\n",
       "      <td>0.000000</td>\n",
       "      <td>0.0</td>\n",
       "      <td>0.000000</td>\n",
       "      <td>0.000000</td>\n",
       "      <td>0.000000</td>\n",
       "      <td>0.000000</td>\n",
       "      <td>0.000000</td>\n",
       "      <td>718.500000</td>\n",
       "    </tr>\n",
       "    <tr>\n",
       "      <th>50%</th>\n",
       "      <td>3.900000</td>\n",
       "      <td>0.0</td>\n",
       "      <td>88607.000000</td>\n",
       "      <td>0.000000</td>\n",
       "      <td>0.000000</td>\n",
       "      <td>0.0</td>\n",
       "      <td>0.000000</td>\n",
       "      <td>0.000000</td>\n",
       "      <td>0.000000</td>\n",
       "      <td>0.000000</td>\n",
       "      <td>0.000000</td>\n",
       "      <td>1063.000000</td>\n",
       "    </tr>\n",
       "    <tr>\n",
       "      <th>75%</th>\n",
       "      <td>4.200000</td>\n",
       "      <td>0.0</td>\n",
       "      <td>105886.000000</td>\n",
       "      <td>0.000000</td>\n",
       "      <td>0.000000</td>\n",
       "      <td>0.0</td>\n",
       "      <td>0.000000</td>\n",
       "      <td>0.000000</td>\n",
       "      <td>0.000000</td>\n",
       "      <td>0.000000</td>\n",
       "      <td>0.000000</td>\n",
       "      <td>1350.000000</td>\n",
       "    </tr>\n",
       "    <tr>\n",
       "      <th>max</th>\n",
       "      <td>5.000000</td>\n",
       "      <td>0.0</td>\n",
       "      <td>175000.000000</td>\n",
       "      <td>1.000000</td>\n",
       "      <td>1.000000</td>\n",
       "      <td>0.0</td>\n",
       "      <td>1.000000</td>\n",
       "      <td>1.000000</td>\n",
       "      <td>1.000000</td>\n",
       "      <td>1.000000</td>\n",
       "      <td>1.000000</td>\n",
       "      <td>4608.000000</td>\n",
       "    </tr>\n",
       "  </tbody>\n",
       "</table>\n",
       "</div>"
      ],
      "text/plain": [
       "           Rating  hourly         salary   python_yn     Java_yn  Rlang_yn  \\\n",
       "count  482.000000   482.0     482.000000  482.000000  482.000000     482.0   \n",
       "mean     3.486722     0.0   89430.319502    0.047718    0.066390       0.0   \n",
       "std      1.452144     0.0   22930.118152    0.213390    0.249221       0.0   \n",
       "min     -1.000000     0.0   37070.000000    0.000000    0.000000       0.0   \n",
       "25%      3.600000     0.0   75000.000000    0.000000    0.000000       0.0   \n",
       "50%      3.900000     0.0   88607.000000    0.000000    0.000000       0.0   \n",
       "75%      4.200000     0.0  105886.000000    0.000000    0.000000       0.0   \n",
       "max      5.000000     0.0  175000.000000    1.000000    1.000000       0.0   \n",
       "\n",
       "            JS_yn      SQL_yn    Excel_yn    Spark_yn      AWS_yn     desc_len  \n",
       "count  482.000000  482.000000  482.000000  482.000000  482.000000   482.000000  \n",
       "mean     0.045643    0.026971    0.074689    0.018672    0.010373  1108.912863  \n",
       "std      0.208927    0.162167    0.263162    0.135505    0.101426   623.963277  \n",
       "min      0.000000    0.000000    0.000000    0.000000    0.000000   149.000000  \n",
       "25%      0.000000    0.000000    0.000000    0.000000    0.000000   718.500000  \n",
       "50%      0.000000    0.000000    0.000000    0.000000    0.000000  1063.000000  \n",
       "75%      0.000000    0.000000    0.000000    0.000000    0.000000  1350.000000  \n",
       "max      1.000000    1.000000    1.000000    1.000000    1.000000  4608.000000  "
      ]
     },
     "execution_count": 51,
     "metadata": {},
     "output_type": "execute_result"
    }
   ],
   "source": [
    "df.describe()"
   ]
  },
  {
   "cell_type": "code",
   "execution_count": 52,
   "metadata": {},
   "outputs": [
    {
     "data": {
      "text/plain": [
       "<AxesSubplot:>"
      ]
     },
     "execution_count": 52,
     "metadata": {},
     "output_type": "execute_result"
    },
    {
     "data": {
      "image/png": "[encoded data removed]",
      "text/plain": [
       "<Figure size 432x288 with 1 Axes>"
      ]
     },
     "metadata": {
      "needs_background": "light"
     },
     "output_type": "display_data"
    }
   ],
   "source": [
    "\n"
   ]
  },
  {
   "cell_type": "code",
   "execution_count": 53,
   "metadata": {},
   "outputs": [
    {
     "data": {
      "text/plain": [
       "<AxesSubplot:>"
      ]
     },
     "execution_count": 53,
     "metadata": {},
     "output_type": "execute_result"
    },
    {
     "data": {
      "image/png": "[encoded data removed]",
      "text/plain": [
       "<Figure size 432x288 with 1 Axes>"
      ]
     },
     "metadata": {
      "needs_background": "light"
     },
     "output_type": "display_data"
    }
   ],
   "source": []
  },
  {
   "cell_type": "code",
   "execution_count": 54,
   "metadata": {},
   "outputs": [
    {
     "data": {
      "text/plain": [
       "<AxesSubplot:>"
      ]
     },
     "execution_count": 54,
     "metadata": {},
     "output_type": "execute_result"
    },
    {
     "data": {
      "image/png": "[encoded data removed]",
      "text/plain": [
       "<Figure size 432x288 with 1 Axes>"
      ]
     },
     "metadata": {
      "needs_background": "light"
     },
     "output_type": "display_data"
    }
   ],
   "source": []
  },
  {
   "cell_type": "code",
   "execution_count": 41,
   "metadata": {},
   "outputs": [
    {
     "data": {
      "text/plain": [
       "<AxesSubplot:>"
      ]
     },
     "execution_count": 41,
     "metadata": {},
     "output_type": "execute_result"
    },
    {
     "data": {
      "image/png": "[encoded data removed]",
      "text/plain": [
       "<Figure size 432x288 with 1 Axes>"
      ]
     },
     "metadata": {
      "needs_background": "light"
     },
     "output_type": "display_data"
    }
   ],
   "source": []
  },
  {
   "cell_type": "code",
   "execution_count": null,
   "metadata": {},
   "outputs": [],
   "source": []
  }
 ],
 "metadata": {
  "kernelspec": {
   "display_name": "Python 3.9.7 ('base')",
   "language": "python",
   "name": "python3"
  },
  "language_info": {
   "codemirror_mode": {
    "name": "ipython",
    "version": 3
   },
   "file_extension": ".py",
   "mimetype": "text/x-python",
   "name": "python",
   "nbconvert_exporter": "python",
   "pygments_lexer": "ipython3",
   "version": "3.9.7"
  },
  "orig_nbformat": 4,
  "vscode": {
   "interpreter": {
    "hash": "af0f9bca1ba68d2d452cd02df4f4e91e7ec99f6a433ca7b0cf2cb372fa0b4e4a"
   }
  }
 },
 "nbformat": 4,
 "nbformat_minor": 2
}
