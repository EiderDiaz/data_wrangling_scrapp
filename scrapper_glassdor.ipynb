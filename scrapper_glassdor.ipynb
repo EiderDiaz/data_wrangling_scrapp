{
 "cells": [
  {
   "cell_type": "code",
   "execution_count": 1,
   "metadata": {},
   "outputs": [],
   "source": [
    "from selenium import webdriver\n",
    "import sys\n",
    "import time\n",
    "#sys.path.insert(0,'/usr/lib/chromium-browser/chromedriver')\n",
    "from selenium.webdriver.common.by import By\n",
    "from selenium.common.exceptions import NoSuchElementException\n"
   ]
  },
  {
   "cell_type": "markdown",
   "metadata": {},
   "source": [
    "## MAIN\n",
    "\n",
    "antes de correr debes descargar el chrome driver acorde a tu maquina\n",
    "https://sites.google.com/chromium.org/driver/downloads\n"
   ]
  },
  {
   "cell_type": "code",
   "execution_count": 2,
   "metadata": {},
   "outputs": [
    {
     "name": "stderr",
     "output_type": "stream",
     "text": [
      "/var/folders/n2/np9y87ks47j0gqm4v82gvddh0000gn/T/ipykernel_57094/1339752204.py:16: DeprecationWarning: executable_path has been deprecated, please pass in a Service object\n",
      "  driver = webdriver.Chrome(executable_path=path, options=options)\n"
     ]
    }
   ],
   "source": [
    "path = \"/opt/homebrew/bin/chromedriver\"\n",
    "keyword = \"data science\"\n",
    "num_jobs = 15\n",
    "slp_time = 5\n",
    "\n",
    "\n",
    "\n",
    "'''Gathers jobs as a dataframe, scraped from Glassdoor'''\n",
    "#Initializing the webdriver\n",
    "options = webdriver.ChromeOptions()\n",
    "\n",
    "#Uncomment the line below if you'd like to scrape without a new Chrome window every time.\n",
    "#options.add_argument('headless')\n",
    "\n",
    "#Change the path to where chromedriver is in your home folder.\n",
    "driver = webdriver.Chrome(executable_path=path, options=options)\n",
    "#driver.set_window_size(1120, 1000)\n",
    "\n",
    "url = \"https://www.glassdoor.com/Job/jobs.htm?suggestCount=0&suggestChosen=false&clickSource=searchBtn&typedKeyword=\"+keyword+\"&sc.keyword=\"+keyword+\"&locT=&locId=&jobType=\"\n",
    "#url = 'https://www.glassdoor.com/Job/jobs.htm?sc.keyword=\"' + keyword + '\"&locT=C&locId=1147401&locKeyword=San%20Francisco,%20CA&jobType=all&fromAge=-1&minSalary=0&includeNoSalaryJobs=true&radius=100&cityId=-1&minRating=0.0&industryId=-1&sgocId=-1&seniorityType=all&companyId=-1&employerSizes=0&applicationType=0&remoteWorkType=0'\n",
    "driver.get(url)\n",
    "time.sleep(5)\n",
    "jobs = []\n"
   ]
  },
  {
   "cell_type": "code",
   "execution_count": 3,
   "metadata": {},
   "outputs": [],
   "source": [
    "job_buttons = driver.find_elements(By.CLASS_NAME, \"react-job-listing\")  #jl for Job Listing. These are the buttons we're going to click.\n"
   ]
  },
  {
   "cell_type": "code",
   "execution_count": 4,
   "metadata": {},
   "outputs": [],
   "source": [
    "def get_companyname_rating(company_name):\n",
    "    \"\"\"gets the company name and (if exist) gets the company rating too\"\"\"\n",
    "    splited = company_name.split(\"\\n\")\n",
    "    #company name comes with rating \n",
    "    if len(splited) > 1:\n",
    "        return splited[0],  splited[1]\n",
    "    #just company name\n",
    "    else:\n",
    "        return company_name, -1\n"
   ]
  },
  {
   "cell_type": "code",
   "execution_count": 5,
   "metadata": {},
   "outputs": [],
   "source": [
    "job_buttons[1].click()\n",
    "time.sleep(4)\n",
    "#close modal\n",
    "try:\n",
    "    driver.find_element(By.XPATH, '//*[@id=\"JAModal\"]/div/div[2]/span').click()\n",
    "except NoSuchElementException:\n",
    "    print(\"no hay modal xd\")\n",
    "\n",
    "\n",
    "collected_successfully = False\n",
    "\n",
    "company_name_ = driver.find_element(By.CLASS_NAME, 'e1tk4kwz5').text\n",
    "company_name, rating = get_companyname_rating(company_name_) \n",
    "\n",
    "location = driver.find_element(By.CLASS_NAME,'e1tk4kwz1').text\n",
    "job_title = driver.find_element(By.CLASS_NAME,'e1tk4kwz2').text\n",
    "job_description = driver.find_element(By.XPATH,'.//div[@class=\"jobDescriptionContent desc\"]').text\n",
    "\n",
    "salary_estimate = driver.find_element(By.CLASS_NAME,'e2u4hf18').text\n",
    "\n",
    "collected_successfully = True\n",
    "\n"
   ]
  },
  {
   "cell_type": "code",
   "execution_count": 15,
   "metadata": {},
   "outputs": [
    {
     "data": {
      "text/plain": [
       "{'Job Title': 'Jr Data Scientist (New York)',\n",
       " 'Company Name': 'Paramount',\n",
       " 'Location': 'New York, NY',\n",
       " 'Salary Estimate': '$115,886 /yr (est.)',\n",
       " 'Rating': '3.8',\n",
       " 'Job Description': \"Paramount Global (NASDAQ: PARA, PARAA) is a leading global media and entertainment company that creates premium content and experiences for audiences worldwide. Driven by iconic studios, networks and streaming services, Paramount's portfolio of consumer brands includes CBS, Showtime Networks, Paramount Pictures, Nickelodeon, MTV, Comedy Central, BET, Paramount+, Pluto TV and Simon & Schuster, among others. Paramount delivers the largest share of the U.S. television audience and boasts one of the industry's most important and extensive libraries of TV and film titles. In addition to offering innovative streaming services and digital video products, the company provides powerful capabilities in production, distribution and advertising solutions.\\nAre you passionate about using data to help drive insights in media and entertainment? Paramount is looking for a Jr. Data Scientist who is excited work on some of the hottest topics in media technology today: big data, data visualization, modeling, machine learning, and most importantly, the translation of data into new products, tools, and insights.\\n\\nCome join the Data & Decision Sciences Group - a team of data scientists, data engineers, and full stack developers who are using the latest technology to understand our content and audiences. Our ideal candidate is a motivated data scientist who is excited to support Paramount's data strategy by helping to build products for researchers across our core brands including CBS, Nickelodeon, MTV, Comedy Central, Paramount, VH1, BET, Pluto TV, and more! You will work with a wide range of data sets (metered measurement data, syndicated data, survey data, streaming platform data) to mine, analyze, forecast, segment, predict, and ultimately drive insights and build new data delivery tools. You will also gain media industry experience by understanding both Paramount's business needs and existing data assets in order to connect the dots and build innovative and interactive data solutions.\\n\\n\\nDeveloping products and tools that allow for easier access to all data and flexible and real time reporting.\\nAggregating viewing data to create predictive models for audience growth, programming opportunity, and optimal marketing plans.\\nCreating data maps and taxonomies from disparate data sets and the development of standardized KPIs/metrics for insights.\\nCrafting processes and techniques to effectively fuse custom survey data sets to viewing as well as fusing different measurement data sets together.\\nConstruction of data pipelines and architecture to keep our products available and accurate for our stakeholders.\\n\\n\\ndata science, statistics, big data, research (survey and measurement-based), data platform architecture, BI, data visualization, and data automation.\\nB.A. / B.S. (M.S. or Ph.D. is a plus) in Statistics, Computer Science, Mathematics, Social Sciences, Physics, Computational Biology, Sociology, Cognitive Science, or another quantitative field.\\nExpertise in Python or SQL.\\nInterest in creating, building, and architecting data dashboards and platforms in cloud environments.\\n\\n\\nExperience with statistical techniques, modeling, and machine learning.\\nR\\nTableau\\nExperience in big data\\n\\nParamount is an equal opportunity employer (EOE) including disability/vet.\\n\\nAt Paramount, the spirit of inclusion feeds into everything that we do, on-screen and off. From the programming and movies we create to employee benefits/programs and social impact outreach initiatives, we believe that opportunity, access, resources and rewards should be available to and for the benefit of all. Paramount is proud to be an equal opportunity workplace and is an affirmative action employer. We are committed to equal employment opportunity regardless of race, color, ethnicity, ancestry, religion, creed, sex, national origin, sexual orientation, age, citizenship status, marital status, disability, gender identity, gender expression, and Veteran status.\\n\\nIf you are a qualified individual with a disability or a disabled veteran, you may request a reasonable accommodation if you are unable or limited in your ability to use or access. https://www.paramount.com/careers as a result of your disability. You can request reasonable accommodations by calling 212.846.5500 or by sending an email to viacomaccommodations@viacom.com. Only messages left for this purpose will be returned.\"}"
      ]
     },
     "execution_count": 15,
     "metadata": {},
     "output_type": "execute_result"
    }
   ],
   "source": [
    "\n",
    "job_data_dict = {\"Job Title\" : job_title,\n",
    "    \"Company Name\" : company_name,\n",
    "     \"Location\" : location,\n",
    "    \"Salary Estimate\" : salary_estimate,\n",
    "    \"Rating\" : rating,\n",
    "    \"Job Description\" : job_description,\n",
    "   }\n",
    "\n",
    "job_data_dict"
   ]
  },
  {
   "cell_type": "code",
   "execution_count": 17,
   "metadata": {},
   "outputs": [],
   "source": [
    "Company_Overview = driver.find_elements(By.CLASS_NAME,'e1pvx6aw0')\n",
    "def get_company_overview_data(Company_Overview):\n",
    "    Company_Overview_dict = {\"size\":\"\",\n",
    "                            \"founded\":\"\",\n",
    "                            \"type\":\"\",\n",
    "                            \"industry\":\"\",\n",
    "                            \"sector\":\"\",\n",
    "                            \"revenue\":\"\",}\n",
    "\n",
    "    for i, key in enumerate(Company_Overview_dict):\n",
    "        try: \n",
    "            Company_Overview_dict[key] = Company_Overview[i].text\n",
    "        except:\n",
    "            print(f\"{key} not found\")\n",
    "            Company_Overview_dict[key] = -1\n",
    "    return Company_Overview_dict\n",
    "company_overview_dict = get_company_overview_data(Company_Overview)\n",
    "company_overview_dict"
   ]
  },
  {
   "cell_type": "code",
   "execution_count": 18,
   "metadata": {},
   "outputs": [],
   "source": [
    "\n",
    "job_data_dict.update(company_overview_dict)\n",
    "    \n"
   ]
  },
  {
   "cell_type": "code",
   "execution_count": null,
   "metadata": {},
   "outputs": [],
   "source": [
    "jobs.append(job_data_dict)"
   ]
  },
  {
   "cell_type": "code",
   "execution_count": 10,
   "metadata": {},
   "outputs": [],
   "source": [
    "driver.close()"
   ]
  }
 ],
 "metadata": {
  "interpreter": {
   "hash": "af0f9bca1ba68d2d452cd02df4f4e91e7ec99f6a433ca7b0cf2cb372fa0b4e4a"
  },
  "kernelspec": {
   "display_name": "Python 3.9.7 ('base')",
   "language": "python",
   "name": "python3"
  },
  "language_info": {
   "codemirror_mode": {
    "name": "ipython",
    "version": 3
   },
   "file_extension": ".py",
   "mimetype": "text/x-python",
   "name": "python",
   "nbconvert_exporter": "python",
   "pygments_lexer": "ipython3",
   "version": "3.9.7"
  },
  "orig_nbformat": 4
 },
 "nbformat": 4,
 "nbformat_minor": 2
}
