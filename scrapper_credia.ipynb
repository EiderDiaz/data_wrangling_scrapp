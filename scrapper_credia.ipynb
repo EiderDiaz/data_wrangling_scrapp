{
 "cells": [
  {
   "cell_type": "code",
   "execution_count": 1,
   "metadata": {},
   "outputs": [],
   "source": [
    "from selenium import webdriver\n",
    "import sys\n",
    "import time\n",
    "#sys.path.insert(0,'/usr/lib/chromium-browser/chromedriver')\n",
    "from selenium.webdriver.common.by import By\n",
    "from selenium.webdriver.support.ui import Select\n",
    "\n"
   ]
  },
  {
   "cell_type": "markdown",
   "metadata": {},
   "source": [
    "## MAIN\n",
    "\n",
    "antes de correr debes descargar el chrome driver acorde a tu maquina\n",
    "https://sites.google.com/chromium.org/driver/downloads\n"
   ]
  },
  {
   "cell_type": "code",
   "execution_count": 23,
   "metadata": {},
   "outputs": [
    {
     "name": "stderr",
     "output_type": "stream",
     "text": [
      "/var/folders/n2/np9y87ks47j0gqm4v82gvddh0000gn/T/ipykernel_99376/4197081067.py:7: DeprecationWarning: executable_path has been deprecated, please pass in a Service object\n",
      "  wd = webdriver.Chrome(\"/opt/homebrew/bin/chromedriver\")\n"
     ]
    }
   ],
   "source": [
    "\n",
    "chrome_options = webdriver.ChromeOptions()\n",
    "#chrome_options.add_argument('--headless')\n",
    "#chrome_options.add_argument('--no-sandbox')\n",
    "#chrome_options.add_argument('--disable-dev-shm-usage')\n",
    "#wd = webdriver.Chrome('chromedriver',chrome_options=chrome_options)\n",
    "#wd = webdriver.Chrome(\"C:/Users/eider/Desktop/chromedriver_win32/chromedriver.exe\",options=chrome_options)\n",
    "wd = webdriver.Chrome(\"/opt/homebrew/bin/chromedriver\")\n",
    "\n",
    "# https://stackoverflow.com/questions/60362018/macos-catalinav-10-15-3-error-chromedriver-cannot-be-opened-because-the-de\n",
    "wd.get(\"https://credia.com.mx\")\n",
    "time.sleep(7)"
   ]
  },
  {
   "cell_type": "markdown",
   "metadata": {},
   "source": [
    "## Login"
   ]
  },
  {
   "cell_type": "code",
   "execution_count": 24,
   "metadata": {},
   "outputs": [],
   "source": [
    "\n",
    "#body_html = wd.find_element(By.XPATH,\"/html/body\")\n",
    "wd.find_element(By.NAME,'Username').send_keys(\"AVENIDA.VESSEL\")\n",
    "wd.find_element(By.NAME,'Password').send_keys(\"Nowports2022\")\n",
    "wd.find_element(By.XPATH,\"//*[@id='LoginForm']/input\").click()\n",
    "time.sleep(10)# Let the user actually see something!\n",
    "\n",
    "# body_html = wd.find_element(By.XPATH,\"/html/body\")\n",
    "# print(body_html.text)\n",
    "#"
   ]
  },
  {
   "cell_type": "markdown",
   "metadata": {},
   "source": [
    "## open client form "
   ]
  },
  {
   "cell_type": "code",
   "execution_count": 25,
   "metadata": {},
   "outputs": [],
   "source": [
    "# click clientes\n",
    "wd.find_element(By.XPATH,\"//*[@id='sidebar-menu']/div/ul/li[3]/a\").click()\n",
    "# click cliente form\n",
    "wd.find_element(By.XPATH,\"//*[@id='sidebar-menu']/div/ul/li[3]/ul/li[1]/a\").click()\n",
    "\n",
    "time.sleep(10)# Let the user actually see something!\n",
    "#body_html = wd.find_element(By.XPATH,\"/html/body\")\n",
    "#print(body_html.text)\n"
   ]
  },
  {
   "cell_type": "markdown",
   "metadata": {},
   "source": [
    "## fill the client form (Persona Moral)\n",
    "### paso 1 - tipo de cliente "
   ]
  },
  {
   "cell_type": "code",
   "execution_count": 26,
   "metadata": {},
   "outputs": [],
   "source": [
    "#persona clcik persona moral\n",
    "wd.find_element(By.XPATH,\"/html/body/div[3]/div/div[6]/div/div/div/div[1]/div[2]/button[3]\").click()\n",
    "time.sleep(2)\n",
    "# Fill the form\n",
    "\n",
    "wd.find_element(By.NAME,'RazonSocial').send_keys(\"Hola Soy el Eider Inc.\")\n",
    "#mandar la fecha (dd/MM/yyyy)\n",
    "wd.find_element(By.XPATH,\"//*[@id='PersonaMoral']/div[1]/div[2]/div/span/span/input\").send_keys(\"14/04/1995\")\n",
    "wd.find_element(By.NAME,'rMoral').send_keys(\"MAG041126GT8\")\n",
    "#sector financiero picker\n",
    "wd.find_element(By.XPATH,\"//*[@id='PersonaMoral']/div[1]/div[4]/div/select\").click()\n",
    "wd.find_element(By.XPATH,\"//*[@id='PersonaMoral']/div[1]/div[4]/div/select/option[1]\").click()\n",
    "\n",
    "#select option from picker\n",
    "def select_from_dropdown(xpath,value):\n",
    "    element = wd.find_element(By.XPATH,xpath)\n",
    "    element.click()\n",
    "    all_options = element.find_elements(By.TAG_NAME,\"option\")\n",
    "    for option in all_options:\n",
    "        if value == option.get_attribute(\"value\"):\n",
    "            option.click()\n",
    "            break\n",
    "#nacionalidad picker    \n",
    "select_from_dropdown(xpath=\"//*[@id='PersonaMoral']/div[2]/div[1]/div/select\",\n",
    "                     value=\"Mexicano\")\n",
    "#tipo de productor\n",
    "wd.find_element(By.XPATH,\"//*[@id='PersonaMoral']/div[2]/div[3]/div/input\").send_keys(\"Productor agricola\")\n",
    "\n",
    "## DATOS DEL REPRESENTANTE LEGAL.\n",
    "wd.find_element(By.NAME,'RepresentanteApellidoPaterno').send_keys(\"Diaz\")\n",
    "wd.find_element(By.NAME,'RepresentanteApellidoMaterno').send_keys(\"Moraila\")\n",
    "\n",
    "wd.find_element(By.NAME,'RepresentanteNombre').send_keys(\"El\")\n",
    "wd.find_element(By.NAME,'RepresentanteSegundoNombre').send_keys(\"Eider\")\n",
    "##next\n",
    "wd.find_element(By.XPATH,\"//*[@id='wizard']/div[2]/a[4]\").click()\n",
    "time.sleep(2)\n",
    "#\n",
    "\n"
   ]
  },
  {
   "cell_type": "markdown",
   "metadata": {},
   "source": [
    "## paso 2"
   ]
  },
  {
   "cell_type": "code",
   "execution_count": 37,
   "metadata": {},
   "outputs": [
    {
     "name": "stdout",
     "output_type": "stream",
     "text": [
      "La Florida\n",
      "Plaza Revolución\n",
      "Cerro de la Silla\n",
      "España\n",
      "Caracol\n",
      "Residencial La Florida\n",
      "Villa Florida\n"
     ]
    }
   ],
   "source": [
    "\n",
    "\n",
    "# --datos de contacto--\n",
    "\n",
    "\n",
    "wd.find_element(By.XPATH,'//*[@id=\"step-2\"]/div[4]/div[1]/div[1]/div/input').send_keys(\"6681696325\")\n",
    "wd.find_element(By.NAME,'TelefonoFisico').send_keys(\"6681696325\")\n",
    "time.sleep(1)\n",
    "#solo jala cuando lo intentas por xpath y luego por name (no tiene sentido pero ya es viernes)\n",
    "wd.find_element(By.XPATH,'//*[@id=\"step-2\"]/div[4]/div[1]/div[2]/div/input').send_keys(\"6681696325\")\n",
    "wd.find_element(By.NAME,'TelefonoCelular').send_keys(\"6681696325\")\n",
    "time.sleep(1)\n",
    "#solo jala cuando lo intentas por xpath y luego por name (no tiene sentido pero ya es viernes)\n",
    "wd.find_element(By.XPATH,'//*[@id=\"step-2\"]/div[4]/div[1]/div[3]/div/input').send_keys(\"6681696325\")\n",
    "wd.find_element(By.NAME,'TelefonoOtro').send_keys(\"6681696325\")\n",
    "time.sleep(1)\n",
    "wd.find_element(By.XPATH,'//*[@id=\"step-2\"]/div[4]/div[2]/div/div/input').send_keys(\"eider.diaz@nowports.com\")\n",
    "\n",
    "# --domicilio--\n",
    "wd.find_element(By.ID,'autocomplete2').send_keys(\"64810\")\n",
    "time.sleep(2)\n",
    "wd.find_element(By.XPATH,'//*[@id=\"autocomplete2_listbox\"]/li').click()\n",
    "time.sleep(5)\n",
    "def select_colonia_from_alert(client_colonia):\n",
    "    found = False\n",
    "    i = 0\n",
    "    #get the id_class\n",
    "    d = wd.find_element(By.XPATH, \"//div[@ui-grid='gridCodigosPostales']\")\n",
    "    classes = d.get_attribute(\"class\").split(\" \")\n",
    "    id_class = classes[2].replace(\"grid\", \"\")\n",
    "    #print(id_class)\n",
    "    while not found:\n",
    "        try:\n",
    "            #select name of the colonia the parent from the ID\n",
    "            #1651794783420-0-uiGrid-000Q-cell\n",
    "            #//*[@id=\"1651794783420-0-uiGrid-000Q-cell\"]\n",
    "            colonia_parent_div = wd.find_element(By.ID, f\"{id_class}-{i}-uiGrid-000Q-cell\")\n",
    "            #get the actual text from child div\n",
    "            colonia = colonia_parent_div.find_elements(By.TAG_NAME, \"div\")[0]\n",
    "            print(colonia.text)\n",
    "            if colonia.text == client_colonia:\n",
    "                #select the parent of the button\n",
    "                #//*[@id=\"1651794783420-0-uiGrid-000R-cell\"]/div/button\n",
    "                colonia_parent_button= wd.find_element(By.ID, f\"{id_class}-{i}-uiGrid-000R-cell\")\n",
    "                # select the div\n",
    "                colonia_div = colonia_parent_button.find_elements(By.TAG_NAME, \"div\")[0]\n",
    "                # select the button\n",
    "                colonia_button = colonia_div.find_elements(By.TAG_NAME, \"button\")[0]\n",
    "                colonia_button.click()\n",
    "                found = True\n",
    "            i+=1\n",
    "        except:\n",
    "            f\"Error, no hay existe la colonia con el C.P. x\"\n",
    "            found =  True\n",
    "\n",
    "select_colonia_from_alert(client_colonia=\"Villa Florida\")\n",
    "\n",
    "wd.find_element(By.NAME,'Calle').send_keys(\"los pinos\")\n",
    "wd.find_element(By.XPATH,'//*[@id=\"step-2\"]/div[2]/div[2]/div[2]/div/input').send_keys(\"2525\")\n",
    "wd.find_element(By.XPATH,'//*[@id=\"step-2\"]/div[2]/div[2]/div[3]/div/input').send_keys(\"B\")\n",
    "time.sleep(1)\n",
    "\n",
    "wd.find_element(By.XPATH,'//*[@id=\"wizard\"]/div[2]/a[4]').click()\n"
   ]
  },
  {
   "cell_type": "markdown",
   "metadata": {},
   "source": [
    "## paso 3\n",
    "\n",
    "conoce tu cliente"
   ]
  },
  {
   "cell_type": "code",
   "execution_count": 52,
   "metadata": {},
   "outputs": [],
   "source": [
    "\n",
    "\n",
    "def select_label_from_actividad_dropdown(xpath,label):\n",
    "    element = wd.find_element(By.XPATH,xpath)\n",
    "    all_options = element.find_elements(By.TAG_NAME,\"option\")\n",
    "    for option in all_options:\n",
    "        raw_text = option.get_attribute(\"label\")\n",
    "        if raw_text == label:\n",
    "            option.click()\n",
    "            break\n",
    "\n",
    "\n",
    "select_label_from_actividad_dropdown(xpath='//*[@id=\"step-3\"]/div[2]/div[1]/div[4]/div[1]/select',\n",
    "                                     label=\"No Aplica\")\n",
    "\n",
    "wd.find_element(By.NAME,'NombreEmpleador').send_keys(\"chespirito\")\n",
    "\n",
    "def select_from_yesno_button(xpath,yesno=0):\n",
    "    #no = 0\n",
    "    #yes = 1\n",
    "    button_parent_div = wd.find_element(By.XPATH, xpath)\n",
    "    #get the actuat button\n",
    "    button = button_parent_div.find_elements(By.TAG_NAME, \"button\")[yesno]\n",
    "    button.click()\n",
    "# propetario real\n",
    "select_from_yesno_button(xpath='//*[@id=\"step-3\"]/div[2]/div[2]/div[5]/div[1]/div',yesno=1)\n",
    "# antecedentes penales\n",
    "select_from_yesno_button(xpath='//*[@id=\"step-3\"]/div[2]/div[2]/div[5]/div[2]/div',yesno=0)\n",
    "# paises con medidas deficientes\n",
    "select_from_yesno_button(xpath='//*[@id=\"step-3\"]/div[2]/div[2]/div[5]/div[3]/div',yesno=0)\n",
    "\n",
    "wd.find_element(By.NAME,'Fiel').send_keys(\"00001000000413961686\")\n",
    "\n",
    "select_label_from_actividad_dropdown(xpath='//*[@id=\"step-3\"]/div[2]/div[2]/div[6]/div[2]/div/select',\n",
    "                                     label=\"General de Ley Personas Morales\")\n",
    "\n",
    "# TODO verificar lo del propietario real\n",
    "# TODO verificar lo del provedor real\n",
    "\n",
    "wd.find_element(By.XPATH,'//*[@id=\"wizard\"]/div[2]/a[4]').click()\n",
    "time.sleep(2)\n"
   ]
  },
  {
   "cell_type": "markdown",
   "metadata": {},
   "source": [
    "## paso 4 \n",
    "\n",
    "verificacion de documentos"
   ]
  },
  {
   "cell_type": "code",
   "execution_count": 53,
   "metadata": {},
   "outputs": [],
   "source": [
    "\n",
    "wd.find_element(By.XPATH,'//*[@id=\"wizard\"]/div[2]/a[4]').click()\n",
    "time.sleep(2)"
   ]
  },
  {
   "cell_type": "markdown",
   "metadata": {},
   "source": [
    "## paso 5\n"
   ]
  },
  {
   "cell_type": "code",
   "execution_count": 54,
   "metadata": {},
   "outputs": [],
   "source": [
    "select_label_from_actividad_dropdown(xpath='//*[@id=\"step-5\"]/div[1]/div/div/div/select',\n",
    "                                     label=\"IFE\")\n",
    "#IDMEX 1757979906\n",
    "wd.find_element(By.NAME,'NumeroDeIdentificacion').send_keys(\"1757979906\")\n",
    "wd.find_element(By.XPATH,'//*[@id=\"wizard\"]/div[2]/a[4]').click()\n",
    "time.sleep(2)\n",
    "# TODO referancias (datos de aval al aprecer)\n"
   ]
  },
  {
   "cell_type": "code",
   "execution_count": 58,
   "metadata": {},
   "outputs": [],
   "source": [
    "# guardar datos\n",
    "wd.find_element(By.XPATH,'//*[@id=\"wizard\"]/div[2]/a[2]').click()\n",
    "time.sleep(2)\n",
    "# confirmar guardado\n",
    "wd.find_element(By.XPATH,'/html/body/div[4]/div[2]/button[1]').click()\n",
    "time.sleep(2)\n",
    "# aceptar mensaje de confirmacion\n",
    "wd.find_element(By.XPATH,'/html/body/div[4]/div[2]/button[1]').click()\n"
   ]
  },
  {
   "cell_type": "code",
   "execution_count": 22,
   "metadata": {},
   "outputs": [],
   "source": [
    "wd.close()"
   ]
  }
 ],
 "metadata": {
  "interpreter": {
   "hash": "b3ba2566441a7c06988d0923437866b63cedc61552a5af99d1f4fb67d367b25f"
  },
  "kernelspec": {
   "display_name": "Python 3.8.8 ('base')",
   "language": "python",
   "name": "python3"
  },
  "language_info": {
   "codemirror_mode": {
    "name": "ipython",
    "version": 3
   },
   "file_extension": ".py",
   "mimetype": "text/x-python",
   "name": "python",
   "nbconvert_exporter": "python",
   "pygments_lexer": "ipython3",
   "version": "3.8.9"
  },
  "orig_nbformat": 4
 },
 "nbformat": 4,
 "nbformat_minor": 2
}
